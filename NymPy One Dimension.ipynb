{
 "cells": [
  {
   "metadata": {
    "ExecuteTime": {
     "end_time": "2024-07-02T08:37:43.313827Z",
     "start_time": "2024-07-02T08:37:43.215343Z"
    }
   },
   "cell_type": "code",
   "source": "import numpy as np",
   "id": "31be9835c180d23c",
   "outputs": [],
   "execution_count": 1
  },
  {
   "metadata": {
    "ExecuteTime": {
     "end_time": "2024-07-02T08:37:43.327549Z",
     "start_time": "2024-07-02T08:37:43.314852Z"
    }
   },
   "cell_type": "code",
   "source": [
    "nums_array = np.array([1,2,3,4,5,6,7,8,9,10])\n",
    "print(nums_array)"
   ],
   "id": "f83b1cc136fc4dc0",
   "outputs": [
    {
     "name": "stdout",
     "output_type": "stream",
     "text": [
      "[ 1  2  3  4  5  6  7  8  9 10]\n"
     ]
    }
   ],
   "execution_count": 2
  },
  {
   "metadata": {
    "ExecuteTime": {
     "end_time": "2024-07-02T08:37:43.340456Z",
     "start_time": "2024-07-02T08:37:43.329085Z"
    }
   },
   "cell_type": "code",
   "source": "type(nums_array)",
   "id": "1c5e6995a8b4a769",
   "outputs": [
    {
     "data": {
      "text/plain": [
       "numpy.ndarray"
      ]
     },
     "execution_count": 3,
     "metadata": {},
     "output_type": "execute_result"
    }
   ],
   "execution_count": 3
  },
  {
   "metadata": {
    "ExecuteTime": {
     "end_time": "2024-07-02T08:37:43.350415Z",
     "start_time": "2024-07-02T08:37:43.340456Z"
    }
   },
   "cell_type": "code",
   "source": "nums_array[9]",
   "id": "aab02d711799be7e",
   "outputs": [
    {
     "data": {
      "text/plain": [
       "np.int64(10)"
      ]
     },
     "execution_count": 4,
     "metadata": {},
     "output_type": "execute_result"
    }
   ],
   "execution_count": 4
  },
  {
   "metadata": {
    "ExecuteTime": {
     "end_time": "2024-07-02T08:38:54.992504Z",
     "start_time": "2024-07-02T08:38:54.983229Z"
    }
   },
   "cell_type": "code",
   "source": "nums_array.shape",
   "id": "76efa44068082f18",
   "outputs": [
    {
     "data": {
      "text/plain": [
       "(10,)"
      ]
     },
     "execution_count": 5,
     "metadata": {},
     "output_type": "execute_result"
    }
   ],
   "execution_count": 5
  },
  {
   "metadata": {
    "ExecuteTime": {
     "end_time": "2024-07-02T08:39:39.094082Z",
     "start_time": "2024-07-02T08:39:39.083338Z"
    }
   },
   "cell_type": "code",
   "source": "nums_array.ndim",
   "id": "1c3db7bdbb182213",
   "outputs": [
    {
     "data": {
      "text/plain": [
       "1"
      ]
     },
     "execution_count": 6,
     "metadata": {},
     "output_type": "execute_result"
    }
   ],
   "execution_count": 6
  },
  {
   "metadata": {
    "ExecuteTime": {
     "end_time": "2024-07-02T08:39:55.755682Z",
     "start_time": "2024-07-02T08:39:55.740824Z"
    }
   },
   "cell_type": "code",
   "source": "nums_array.size",
   "id": "e98785595fb92ae2",
   "outputs": [
    {
     "data": {
      "text/plain": [
       "10"
      ]
     },
     "execution_count": 7,
     "metadata": {},
     "output_type": "execute_result"
    }
   ],
   "execution_count": 7
  },
  {
   "metadata": {
    "ExecuteTime": {
     "end_time": "2024-07-02T08:40:11.307326Z",
     "start_time": "2024-07-02T08:40:11.298238Z"
    }
   },
   "cell_type": "code",
   "source": "nums_array.dtype",
   "id": "d49bc422f61068a2",
   "outputs": [
    {
     "data": {
      "text/plain": [
       "dtype('int64')"
      ]
     },
     "execution_count": 8,
     "metadata": {},
     "output_type": "execute_result"
    }
   ],
   "execution_count": 8
  },
  {
   "metadata": {
    "ExecuteTime": {
     "end_time": "2024-07-02T08:40:38.008657Z",
     "start_time": "2024-07-02T08:40:37.991714Z"
    }
   },
   "cell_type": "code",
   "source": "nums_array.itemsize",
   "id": "a18c5be3f7e72a64",
   "outputs": [
    {
     "data": {
      "text/plain": [
       "8"
      ]
     },
     "execution_count": 9,
     "metadata": {},
     "output_type": "execute_result"
    }
   ],
   "execution_count": 9
  },
  {
   "metadata": {
    "ExecuteTime": {
     "end_time": "2024-07-02T08:43:29.001084Z",
     "start_time": "2024-07-02T08:43:28.989521Z"
    }
   },
   "cell_type": "code",
   "source": [
    "str_array = np.array([True, 10, 'abc', 5.5])\n",
    "str_array"
   ],
   "id": "e0d5153b2e7cf097",
   "outputs": [
    {
     "data": {
      "text/plain": [
       "array(['True', '10', 'abc', '5.5'], dtype='<U32')"
      ]
     },
     "execution_count": 14,
     "metadata": {},
     "output_type": "execute_result"
    }
   ],
   "execution_count": 14
  },
  {
   "metadata": {
    "ExecuteTime": {
     "end_time": "2024-07-02T08:42:25.412842Z",
     "start_time": "2024-07-02T08:42:25.403833Z"
    }
   },
   "cell_type": "code",
   "source": "str_array.dtype.name",
   "id": "576d47097595a1d0",
   "outputs": [
    {
     "data": {
      "text/plain": [
       "'str1024'"
      ]
     },
     "execution_count": 12,
     "metadata": {},
     "output_type": "execute_result"
    }
   ],
   "execution_count": 12
  },
  {
   "metadata": {
    "ExecuteTime": {
     "end_time": "2024-07-02T08:42:49.248503Z",
     "start_time": "2024-07-02T08:42:49.240883Z"
    }
   },
   "cell_type": "code",
   "source": "str_array.itemsize",
   "id": "9b0774a4907b6985",
   "outputs": [
    {
     "data": {
      "text/plain": [
       "128"
      ]
     },
     "execution_count": 13,
     "metadata": {},
     "output_type": "execute_result"
    }
   ],
   "execution_count": 13
  },
  {
   "metadata": {
    "ExecuteTime": {
     "end_time": "2024-07-02T08:46:28.475965Z",
     "start_time": "2024-07-02T08:46:28.465268Z"
    }
   },
   "cell_type": "code",
   "source": [
    "obj_array = np.array([{'city': 'San Francisco', 'state': 'CA', 'country': 'US'}, {'city': 'Ulyanovsk', 'state': 'Ul_OBL', 'country': 'RU'}])\n",
    "obj_array"
   ],
   "id": "7d0d94448bc5cad0",
   "outputs": [
    {
     "data": {
      "text/plain": [
       "array([{'city': 'San Francisco', 'state': 'CA', 'country': 'US'},\n",
       "       {'city': 'Ulyanovsk', 'state': 'Ul_OBL', 'country': 'RU'}],\n",
       "      dtype=object)"
      ]
     },
     "execution_count": 17,
     "metadata": {},
     "output_type": "execute_result"
    }
   ],
   "execution_count": 17
  },
  {
   "metadata": {
    "ExecuteTime": {
     "end_time": "2024-07-02T08:46:44.387783Z",
     "start_time": "2024-07-02T08:46:44.377763Z"
    }
   },
   "cell_type": "code",
   "source": "obj_array.dtype.name",
   "id": "4da1da9f11079c7b",
   "outputs": [
    {
     "data": {
      "text/plain": [
       "'object'"
      ]
     },
     "execution_count": 18,
     "metadata": {},
     "output_type": "execute_result"
    }
   ],
   "execution_count": 18
  },
  {
   "metadata": {
    "ExecuteTime": {
     "end_time": "2024-07-02T08:46:51.197066Z",
     "start_time": "2024-07-02T08:46:51.190890Z"
    }
   },
   "cell_type": "code",
   "source": "obj_array.itemsize",
   "id": "e48cf70290c1a3e5",
   "outputs": [
    {
     "data": {
      "text/plain": [
       "8"
      ]
     },
     "execution_count": 19,
     "metadata": {},
     "output_type": "execute_result"
    }
   ],
   "execution_count": 19
  },
  {
   "metadata": {},
   "cell_type": "code",
   "outputs": [],
   "execution_count": null,
   "source": "",
   "id": "7ba6bb937acf1d3b"
  }
 ],
 "metadata": {
  "kernelspec": {
   "display_name": "Python 3",
   "language": "python",
   "name": "python3"
  },
  "language_info": {
   "codemirror_mode": {
    "name": "ipython",
    "version": 2
   },
   "file_extension": ".py",
   "mimetype": "text/x-python",
   "name": "python",
   "nbconvert_exporter": "python",
   "pygments_lexer": "ipython2",
   "version": "2.7.6"
  }
 },
 "nbformat": 4,
 "nbformat_minor": 5
}
