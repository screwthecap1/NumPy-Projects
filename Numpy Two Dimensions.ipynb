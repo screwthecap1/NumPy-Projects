{
 "cells": [
  {
   "cell_type": "code",
   "id": "initial_id",
   "metadata": {
    "collapsed": true,
    "ExecuteTime": {
     "end_time": "2024-07-04T10:13:19.304813Z",
     "start_time": "2024-07-04T10:13:19.076759Z"
    }
   },
   "source": "import numpy as np",
   "outputs": [],
   "execution_count": 1
  },
  {
   "metadata": {
    "ExecuteTime": {
     "end_time": "2024-07-04T10:32:03.471059Z",
     "start_time": "2024-07-04T10:32:03.457596Z"
    }
   },
   "cell_type": "code",
   "source": [
    "first = np.array([[1, 2, 3], [4, 5, 6]])\n",
    "first"
   ],
   "id": "8297a9f6abfe1f65",
   "outputs": [
    {
     "data": {
      "text/plain": [
       "array([[1, 2, 3],\n",
       "       [4, 5, 6]])"
      ]
     },
     "execution_count": 12,
     "metadata": {},
     "output_type": "execute_result"
    }
   ],
   "execution_count": 12
  },
  {
   "metadata": {
    "ExecuteTime": {
     "end_time": "2024-07-04T10:32:37.848928Z",
     "start_time": "2024-07-04T10:32:37.838953Z"
    }
   },
   "cell_type": "code",
   "source": "first.ndim",
   "id": "d0d9113c3780fcd5",
   "outputs": [
    {
     "data": {
      "text/plain": [
       "2"
      ]
     },
     "execution_count": 13,
     "metadata": {},
     "output_type": "execute_result"
    }
   ],
   "execution_count": 13
  },
  {
   "metadata": {
    "ExecuteTime": {
     "end_time": "2024-07-04T10:33:25.034041Z",
     "start_time": "2024-07-04T10:33:25.024908Z"
    }
   },
   "cell_type": "code",
   "source": [
    "second = np.array([[7, 8, 9], [10, 11, 12]])\n",
    "second"
   ],
   "id": "b6019214d1b0552d",
   "outputs": [
    {
     "data": {
      "text/plain": [
       "array([[ 7,  8,  9],\n",
       "       [10, 11, 12]])"
      ]
     },
     "execution_count": 16,
     "metadata": {},
     "output_type": "execute_result"
    }
   ],
   "execution_count": 16
  },
  {
   "metadata": {
    "ExecuteTime": {
     "end_time": "2024-07-04T10:33:42.324Z",
     "start_time": "2024-07-04T10:33:42.316499Z"
    }
   },
   "cell_type": "code",
   "source": "second.shape",
   "id": "bf13bd29711c44ea",
   "outputs": [
    {
     "data": {
      "text/plain": [
       "(2, 3)"
      ]
     },
     "execution_count": 17,
     "metadata": {},
     "output_type": "execute_result"
    }
   ],
   "execution_count": 17
  },
  {
   "metadata": {
    "ExecuteTime": {
     "end_time": "2024-07-04T10:35:13.037240Z",
     "start_time": "2024-07-04T10:35:13.022208Z"
    }
   },
   "cell_type": "code",
   "source": "first + second",
   "id": "e44859bc1ce15c8d",
   "outputs": [
    {
     "data": {
      "text/plain": [
       "array([[ 8, 10, 12],\n",
       "       [14, 16, 18]])"
      ]
     },
     "execution_count": 19,
     "metadata": {},
     "output_type": "execute_result"
    }
   ],
   "execution_count": 19
  },
  {
   "metadata": {
    "ExecuteTime": {
     "end_time": "2024-07-04T10:35:21.109522Z",
     "start_time": "2024-07-04T10:35:21.099465Z"
    }
   },
   "cell_type": "code",
   "source": "first + 3",
   "id": "449850d13aea731e",
   "outputs": [
    {
     "data": {
      "text/plain": [
       "array([[4, 5, 6],\n",
       "       [7, 8, 9]])"
      ]
     },
     "execution_count": 20,
     "metadata": {},
     "output_type": "execute_result"
    }
   ],
   "execution_count": 20
  },
  {
   "metadata": {
    "ExecuteTime": {
     "end_time": "2024-07-04T10:35:50.381778Z",
     "start_time": "2024-07-04T10:35:50.370425Z"
    }
   },
   "cell_type": "code",
   "source": "first - 10",
   "id": "25f85d4fa869156f",
   "outputs": [
    {
     "data": {
      "text/plain": [
       "array([[-9, -8, -7],\n",
       "       [-6, -5, -4]])"
      ]
     },
     "execution_count": 21,
     "metadata": {},
     "output_type": "execute_result"
    }
   ],
   "execution_count": 21
  },
  {
   "metadata": {
    "ExecuteTime": {
     "end_time": "2024-07-04T10:36:25.653602Z",
     "start_time": "2024-07-04T10:36:25.643435Z"
    }
   },
   "cell_type": "code",
   "source": "first * 5",
   "id": "15f14cbc294ffea2",
   "outputs": [
    {
     "data": {
      "text/plain": [
       "array([[ 5, 10, 15],\n",
       "       [20, 25, 30]])"
      ]
     },
     "execution_count": 22,
     "metadata": {},
     "output_type": "execute_result"
    }
   ],
   "execution_count": 22
  },
  {
   "metadata": {
    "ExecuteTime": {
     "end_time": "2024-07-04T10:36:34.686751Z",
     "start_time": "2024-07-04T10:36:34.670593Z"
    }
   },
   "cell_type": "code",
   "source": "first / 2",
   "id": "e4a233bfd6098b03",
   "outputs": [
    {
     "data": {
      "text/plain": [
       "array([[0.5, 1. , 1.5],\n",
       "       [2. , 2.5, 3. ]])"
      ]
     },
     "execution_count": 23,
     "metadata": {},
     "output_type": "execute_result"
    }
   ],
   "execution_count": 23
  },
  {
   "metadata": {
    "ExecuteTime": {
     "end_time": "2024-07-04T11:31:25.901977Z",
     "start_time": "2024-07-04T11:31:25.893232Z"
    }
   },
   "cell_type": "code",
   "source": "first",
   "id": "588f154ea2f5e5fb",
   "outputs": [
    {
     "data": {
      "text/plain": [
       "array([[1, 2, 3],\n",
       "       [4, 5, 6]])"
      ]
     },
     "execution_count": 24,
     "metadata": {},
     "output_type": "execute_result"
    }
   ],
   "execution_count": 24
  },
  {
   "metadata": {
    "ExecuteTime": {
     "end_time": "2024-07-04T11:31:34.854029Z",
     "start_time": "2024-07-04T11:31:34.843312Z"
    }
   },
   "cell_type": "code",
   "source": "first[1, 2]",
   "id": "7b45ff0cea3f3864",
   "outputs": [
    {
     "data": {
      "text/plain": [
       "np.int64(6)"
      ]
     },
     "execution_count": 25,
     "metadata": {},
     "output_type": "execute_result"
    }
   ],
   "execution_count": 25
  },
  {
   "metadata": {
    "ExecuteTime": {
     "end_time": "2024-07-04T11:34:40.920009Z",
     "start_time": "2024-07-04T11:34:40.902243Z"
    }
   },
   "cell_type": "code",
   "source": "np.concatenate((first, second))",
   "id": "ab6b1950054cb5b5",
   "outputs": [
    {
     "data": {
      "text/plain": [
       "array([[ 1,  2,  3],\n",
       "       [ 4,  5,  6],\n",
       "       [ 7,  8,  9],\n",
       "       [10, 11, 12]])"
      ]
     },
     "execution_count": 26,
     "metadata": {},
     "output_type": "execute_result"
    }
   ],
   "execution_count": 26
  },
  {
   "metadata": {},
   "cell_type": "code",
   "outputs": [
    {
     "data": {
      "text/plain": [
       "array([[ 1,  2,  3,  7,  8,  9],\n",
       "       [ 4,  5,  6, 10, 11, 12]])"
      ]
     },
     "execution_count": 27,
     "metadata": {},
     "output_type": "execute_result"
    }
   ],
   "execution_count": 27,
   "source": "np.concatenate((first, second), axis=1)",
   "id": "420f595966c91082"
  },
  {
   "metadata": {
    "ExecuteTime": {
     "end_time": "2024-07-04T11:41:20.771175Z",
     "start_time": "2024-07-04T11:41:20.759906Z"
    }
   },
   "cell_type": "code",
   "source": "np.concatenate((np.array([1, 2, 3, 4]), np.array([5, 6, 7, 8])))",
   "id": "9e8b807ad10f86c",
   "outputs": [
    {
     "data": {
      "text/plain": [
       "array([1, 2, 3, 4, 5, 6, 7, 8])"
      ]
     },
     "execution_count": 29,
     "metadata": {},
     "output_type": "execute_result"
    }
   ],
   "execution_count": 29
  },
  {
   "metadata": {},
   "cell_type": "code",
   "outputs": [],
   "execution_count": null,
   "source": "",
   "id": "d5e7321bcf1db2fc"
  }
 ],
 "metadata": {
  "kernelspec": {
   "display_name": "Python 3",
   "language": "python",
   "name": "python3"
  },
  "language_info": {
   "codemirror_mode": {
    "name": "ipython",
    "version": 2
   },
   "file_extension": ".py",
   "mimetype": "text/x-python",
   "name": "python",
   "nbconvert_exporter": "python",
   "pygments_lexer": "ipython2",
   "version": "2.7.6"
  }
 },
 "nbformat": 4,
 "nbformat_minor": 5
}
