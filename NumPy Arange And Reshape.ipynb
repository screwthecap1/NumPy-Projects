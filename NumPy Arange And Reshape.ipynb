{
 "cells": [
  {
   "cell_type": "code",
   "id": "initial_id",
   "metadata": {
    "collapsed": true,
    "ExecuteTime": {
     "end_time": "2024-07-05T17:27:23.890334Z",
     "start_time": "2024-07-05T17:27:23.653983Z"
    }
   },
   "source": "import numpy as np",
   "outputs": [],
   "execution_count": 1
  },
  {
   "metadata": {
    "ExecuteTime": {
     "end_time": "2024-07-05T17:27:23.906594Z",
     "start_time": "2024-07-05T17:27:23.891886Z"
    }
   },
   "cell_type": "code",
   "source": "np.arange(10)",
   "id": "4bdff6341b35239b",
   "outputs": [
    {
     "data": {
      "text/plain": [
       "array([0, 1, 2, 3, 4, 5, 6, 7, 8, 9])"
      ]
     },
     "execution_count": 2,
     "metadata": {},
     "output_type": "execute_result"
    }
   ],
   "execution_count": 2
  },
  {
   "metadata": {
    "ExecuteTime": {
     "end_time": "2024-07-05T17:27:23.917335Z",
     "start_time": "2024-07-05T17:27:23.908063Z"
    }
   },
   "cell_type": "code",
   "source": "np.arange(16, 30)",
   "id": "b3740625792f6ef8",
   "outputs": [
    {
     "data": {
      "text/plain": [
       "array([16, 17, 18, 19, 20, 21, 22, 23, 24, 25, 26, 27, 28, 29])"
      ]
     },
     "execution_count": 3,
     "metadata": {},
     "output_type": "execute_result"
    }
   ],
   "execution_count": 3
  },
  {
   "metadata": {
    "ExecuteTime": {
     "end_time": "2024-07-05T17:27:23.928056Z",
     "start_time": "2024-07-05T17:27:23.919114Z"
    }
   },
   "cell_type": "code",
   "source": "np.arange(10, 20, 3)",
   "id": "ac3fa5ff6df54222",
   "outputs": [
    {
     "data": {
      "text/plain": [
       "array([10, 13, 16, 19])"
      ]
     },
     "execution_count": 4,
     "metadata": {},
     "output_type": "execute_result"
    }
   ],
   "execution_count": 4
  },
  {
   "metadata": {
    "ExecuteTime": {
     "end_time": "2024-07-05T17:27:23.937385Z",
     "start_time": "2024-07-05T17:27:23.929181Z"
    }
   },
   "cell_type": "code",
   "source": "np.arange(-30, 20, 5)",
   "id": "5fd88565a4c4bd18",
   "outputs": [
    {
     "data": {
      "text/plain": [
       "array([-30, -25, -20, -15, -10,  -5,   0,   5,  10,  15])"
      ]
     },
     "execution_count": 5,
     "metadata": {},
     "output_type": "execute_result"
    }
   ],
   "execution_count": 5
  },
  {
   "metadata": {
    "ExecuteTime": {
     "end_time": "2024-07-05T17:27:23.947421Z",
     "start_time": "2024-07-05T17:27:23.937385Z"
    }
   },
   "cell_type": "code",
   "source": "np.arange(start=-30, stop=20, step=5)",
   "id": "f2c0840a377caf1f",
   "outputs": [
    {
     "data": {
      "text/plain": [
       "array([-30, -25, -20, -15, -10,  -5,   0,   5,  10,  15])"
      ]
     },
     "execution_count": 6,
     "metadata": {},
     "output_type": "execute_result"
    }
   ],
   "execution_count": 6
  },
  {
   "metadata": {
    "ExecuteTime": {
     "end_time": "2024-07-05T17:27:23.957518Z",
     "start_time": "2024-07-05T17:27:23.949262Z"
    }
   },
   "cell_type": "code",
   "source": "np.arange(10).reshape(5, 2)",
   "id": "ea4daeafb02fbde0",
   "outputs": [
    {
     "data": {
      "text/plain": [
       "array([[0, 1],\n",
       "       [2, 3],\n",
       "       [4, 5],\n",
       "       [6, 7],\n",
       "       [8, 9]])"
      ]
     },
     "execution_count": 7,
     "metadata": {},
     "output_type": "execute_result"
    }
   ],
   "execution_count": 7
  },
  {
   "metadata": {
    "ExecuteTime": {
     "end_time": "2024-07-05T17:27:23.967060Z",
     "start_time": "2024-07-05T17:27:23.958771Z"
    }
   },
   "cell_type": "code",
   "source": "np.arange(30).reshape(3, 2, 5)",
   "id": "b61c29fc2fca8553",
   "outputs": [
    {
     "data": {
      "text/plain": [
       "array([[[ 0,  1,  2,  3,  4],\n",
       "        [ 5,  6,  7,  8,  9]],\n",
       "\n",
       "       [[10, 11, 12, 13, 14],\n",
       "        [15, 16, 17, 18, 19]],\n",
       "\n",
       "       [[20, 21, 22, 23, 24],\n",
       "        [25, 26, 27, 28, 29]]])"
      ]
     },
     "execution_count": 8,
     "metadata": {},
     "output_type": "execute_result"
    }
   ],
   "execution_count": 8
  },
  {
   "metadata": {
    "ExecuteTime": {
     "end_time": "2024-07-05T17:27:23.977489Z",
     "start_time": "2024-07-05T17:27:23.968786Z"
    }
   },
   "cell_type": "code",
   "source": "np.arange(30).reshape(3, 2, 5).reshape(6, 5)",
   "id": "9eba524746fdc8dc",
   "outputs": [
    {
     "data": {
      "text/plain": [
       "array([[ 0,  1,  2,  3,  4],\n",
       "       [ 5,  6,  7,  8,  9],\n",
       "       [10, 11, 12, 13, 14],\n",
       "       [15, 16, 17, 18, 19],\n",
       "       [20, 21, 22, 23, 24],\n",
       "       [25, 26, 27, 28, 29]])"
      ]
     },
     "execution_count": 9,
     "metadata": {},
     "output_type": "execute_result"
    }
   ],
   "execution_count": 9
  },
  {
   "metadata": {
    "ExecuteTime": {
     "end_time": "2024-07-05T17:27:24.034451Z",
     "start_time": "2024-07-05T17:27:23.977489Z"
    }
   },
   "cell_type": "code",
   "source": "np.random.random((10, )).reshape(2, 5)",
   "id": "d256ba169e09915e",
   "outputs": [
    {
     "data": {
      "text/plain": [
       "array([[0.97864244, 0.04665251, 0.88626792, 0.86232077, 0.7591272 ],\n",
       "       [0.1947274 , 0.44069219, 0.78792834, 0.80637295, 0.3776871 ]])"
      ]
     },
     "execution_count": 10,
     "metadata": {},
     "output_type": "execute_result"
    }
   ],
   "execution_count": 10
  },
  {
   "metadata": {
    "ExecuteTime": {
     "end_time": "2024-07-05T17:27:44.717566Z",
     "start_time": "2024-07-05T17:27:44.705612Z"
    }
   },
   "cell_type": "code",
   "source": [
    "np.random.seed(10)\n",
    "np.random.randint(50, 80, (2, 4, 3))"
   ],
   "id": "a92589053c03e17",
   "outputs": [
    {
     "data": {
      "text/plain": [
       "array([[[59, 79, 54],\n",
       "        [65, 50, 67],\n",
       "        [77, 78, 75],\n",
       "        [79, 66, 79]],\n",
       "\n",
       "       [[67, 76, 58],\n",
       "        [59, 50, 60],\n",
       "        [58, 72, 54],\n",
       "        [69, 66, 54]]], dtype=int32)"
      ]
     },
     "execution_count": 12,
     "metadata": {},
     "output_type": "execute_result"
    }
   ],
   "execution_count": 12
  },
  {
   "metadata": {
    "ExecuteTime": {
     "end_time": "2024-07-05T17:28:15.830504Z",
     "start_time": "2024-07-05T17:28:15.815748Z"
    }
   },
   "cell_type": "code",
   "source": [
    "np.random.seed(10)\n",
    "np.random.randint(50, 80, (2, 4, 3)).flatten()"
   ],
   "id": "46aa33c96ceeedd0",
   "outputs": [
    {
     "data": {
      "text/plain": [
       "array([59, 79, 54, 65, 50, 67, 77, 78, 75, 79, 66, 79, 67, 76, 58, 59, 50,\n",
       "       60, 58, 72, 54, 69, 66, 54], dtype=int32)"
      ]
     },
     "execution_count": 13,
     "metadata": {},
     "output_type": "execute_result"
    }
   ],
   "execution_count": 13
  },
  {
   "metadata": {
    "ExecuteTime": {
     "end_time": "2024-07-05T17:28:40.566845Z",
     "start_time": "2024-07-05T17:28:40.555409Z"
    }
   },
   "cell_type": "code",
   "source": "np.arange(10).reshape(5, 2)",
   "id": "d1d09f9dab599dcf",
   "outputs": [
    {
     "data": {
      "text/plain": [
       "array([[0, 1],\n",
       "       [2, 3],\n",
       "       [4, 5],\n",
       "       [6, 7],\n",
       "       [8, 9]])"
      ]
     },
     "execution_count": 14,
     "metadata": {},
     "output_type": "execute_result"
    }
   ],
   "execution_count": 14
  }
 ],
 "metadata": {
  "kernelspec": {
   "display_name": "Python 3",
   "language": "python",
   "name": "python3"
  },
  "language_info": {
   "codemirror_mode": {
    "name": "ipython",
    "version": 2
   },
   "file_extension": ".py",
   "mimetype": "text/x-python",
   "name": "python",
   "nbconvert_exporter": "python",
   "pygments_lexer": "ipython2",
   "version": "2.7.6"
  }
 },
 "nbformat": 4,
 "nbformat_minor": 5
}
