{
 "cells": [
  {
   "cell_type": "code",
   "id": "initial_id",
   "metadata": {
    "collapsed": true,
    "ExecuteTime": {
     "end_time": "2024-07-09T04:30:30.292372Z",
     "start_time": "2024-07-09T04:30:30.089838Z"
    }
   },
   "source": "import numpy as np",
   "outputs": [],
   "execution_count": 1
  },
  {
   "metadata": {},
   "cell_type": "markdown",
   "source": "## 1. Calculating Total Revenue",
   "id": "7ca4c9b91d4d848e"
  },
  {
   "metadata": {
    "ExecuteTime": {
     "end_time": "2024-07-09T04:30:30.307686Z",
     "start_time": "2024-07-09T04:30:30.294397Z"
    }
   },
   "cell_type": "code",
   "source": [
    "prices = np.array([19.99, 25.99, 14.99, 9.99, 29.99])\n",
    "prices"
   ],
   "id": "d52a9f5ca9bafaef",
   "outputs": [
    {
     "data": {
      "text/plain": [
       "array([19.99, 25.99, 14.99,  9.99, 29.99])"
      ]
     },
     "execution_count": 2,
     "metadata": {},
     "output_type": "execute_result"
    }
   ],
   "execution_count": 2
  },
  {
   "metadata": {
    "ExecuteTime": {
     "end_time": "2024-07-09T04:30:30.318348Z",
     "start_time": "2024-07-09T04:30:30.309711Z"
    }
   },
   "cell_type": "code",
   "source": [
    "quantities = np.array([13, 8, 4, 21, 92])\n",
    "quantities"
   ],
   "id": "4ae8c3e389d5096c",
   "outputs": [
    {
     "data": {
      "text/plain": [
       "array([13,  8,  4, 21, 92])"
      ]
     },
     "execution_count": 3,
     "metadata": {},
     "output_type": "execute_result"
    }
   ],
   "execution_count": 3
  },
  {
   "metadata": {
    "ExecuteTime": {
     "end_time": "2024-07-09T04:30:30.329915Z",
     "start_time": "2024-07-09T04:30:30.322360Z"
    }
   },
   "cell_type": "code",
   "source": [
    "revenue_per_product = prices * quantities\n",
    "revenue_per_product"
   ],
   "id": "e47fc1a1b07d911b",
   "outputs": [
    {
     "data": {
      "text/plain": [
       "array([ 259.87,  207.92,   59.96,  209.79, 2759.08])"
      ]
     },
     "execution_count": 4,
     "metadata": {},
     "output_type": "execute_result"
    }
   ],
   "execution_count": 4
  },
  {
   "metadata": {
    "ExecuteTime": {
     "end_time": "2024-07-09T04:30:30.338619Z",
     "start_time": "2024-07-09T04:30:30.331968Z"
    }
   },
   "cell_type": "code",
   "source": [
    "total_revenue = np.sum(revenue_per_product)\n",
    "total_revenue"
   ],
   "id": "799220f5bda26cab",
   "outputs": [
    {
     "data": {
      "text/plain": [
       "np.float64(3496.62)"
      ]
     },
     "execution_count": 5,
     "metadata": {},
     "output_type": "execute_result"
    }
   ],
   "execution_count": 5
  },
  {
   "metadata": {},
   "cell_type": "markdown",
   "source": "## 2. Analyzing Blog Post Stats",
   "id": "e290cb33649cffbb"
  },
  {
   "metadata": {
    "ExecuteTime": {
     "end_time": "2024-07-09T04:30:30.348145Z",
     "start_time": "2024-07-09T04:30:30.340629Z"
    }
   },
   "cell_type": "code",
   "source": [
    "views = np.array([1000, 700, 300, 1400, 500])\n",
    "views"
   ],
   "id": "ad280a40be062bdc",
   "outputs": [
    {
     "data": {
      "text/plain": [
       "array([1000,  700,  300, 1400,  500])"
      ]
     },
     "execution_count": 6,
     "metadata": {},
     "output_type": "execute_result"
    }
   ],
   "execution_count": 6
  },
  {
   "metadata": {
    "ExecuteTime": {
     "end_time": "2024-07-09T04:30:30.357248Z",
     "start_time": "2024-07-09T04:30:30.350255Z"
    }
   },
   "cell_type": "code",
   "source": [
    "max_views = np.max(views)\n",
    "max_views"
   ],
   "id": "b77cd1dd2e16ad81",
   "outputs": [
    {
     "data": {
      "text/plain": [
       "np.int64(1400)"
      ]
     },
     "execution_count": 7,
     "metadata": {},
     "output_type": "execute_result"
    }
   ],
   "execution_count": 7
  },
  {
   "metadata": {
    "ExecuteTime": {
     "end_time": "2024-07-09T04:30:30.366192Z",
     "start_time": "2024-07-09T04:30:30.359257Z"
    }
   },
   "cell_type": "code",
   "source": [
    "min_views = np.min(views)\n",
    "min_views"
   ],
   "id": "21aebc96d698b96c",
   "outputs": [
    {
     "data": {
      "text/plain": [
       "np.int64(300)"
      ]
     },
     "execution_count": 8,
     "metadata": {},
     "output_type": "execute_result"
    }
   ],
   "execution_count": 8
  },
  {
   "metadata": {
    "ExecuteTime": {
     "end_time": "2024-07-09T04:30:30.374762Z",
     "start_time": "2024-07-09T04:30:30.367421Z"
    }
   },
   "cell_type": "code",
   "source": [
    "avg_views = np.mean(views)\n",
    "avg_views"
   ],
   "id": "f52e33c621b27a20",
   "outputs": [
    {
     "data": {
      "text/plain": [
       "np.float64(780.0)"
      ]
     },
     "execution_count": 9,
     "metadata": {},
     "output_type": "execute_result"
    }
   ],
   "execution_count": 9
  },
  {
   "metadata": {
    "ExecuteTime": {
     "end_time": "2024-07-09T04:30:30.384499Z",
     "start_time": "2024-07-09T04:30:30.377776Z"
    }
   },
   "cell_type": "code",
   "source": [
    "avg_views = np.round(np.mean(views), 4)\n",
    "avg_views"
   ],
   "id": "11633313313bd6a8",
   "outputs": [
    {
     "data": {
      "text/plain": [
       "np.float64(780.0)"
      ]
     },
     "execution_count": 10,
     "metadata": {},
     "output_type": "execute_result"
    }
   ],
   "execution_count": 10
  },
  {
   "metadata": {
    "ExecuteTime": {
     "end_time": "2024-07-09T04:30:30.393238Z",
     "start_time": "2024-07-09T04:30:30.386513Z"
    }
   },
   "cell_type": "code",
   "source": [
    "total_views = np.sum(views)\n",
    "total_views"
   ],
   "id": "aa237911064ee35c",
   "outputs": [
    {
     "data": {
      "text/plain": [
       "np.int64(3900)"
      ]
     },
     "execution_count": 11,
     "metadata": {},
     "output_type": "execute_result"
    }
   ],
   "execution_count": 11
  },
  {
   "metadata": {},
   "cell_type": "markdown",
   "source": "## 3. Splitting Order Into Batches",
   "id": "3eac9b3a5961e52"
  },
  {
   "metadata": {
    "ExecuteTime": {
     "end_time": "2024-07-09T04:30:30.402423Z",
     "start_time": "2024-07-09T04:30:30.394378Z"
    }
   },
   "cell_type": "code",
   "source": [
    "order_ids = np.array([1000, 1001, 1002, 1003, 1004, 1005, 1006, 1007, 1008, 1009])\n",
    "order_ids"
   ],
   "id": "7ff7689a62b32428",
   "outputs": [
    {
     "data": {
      "text/plain": [
       "array([1000, 1001, 1002, 1003, 1004, 1005, 1006, 1007, 1008, 1009])"
      ]
     },
     "execution_count": 12,
     "metadata": {},
     "output_type": "execute_result"
    }
   ],
   "execution_count": 12
  },
  {
   "metadata": {
    "ExecuteTime": {
     "end_time": "2024-07-09T04:30:30.411128Z",
     "start_time": "2024-07-09T04:30:30.403565Z"
    }
   },
   "cell_type": "code",
   "source": [
    "batches = np.split(order_ids, 2)\n",
    "batches"
   ],
   "id": "eaba7d6e19ab6b1a",
   "outputs": [
    {
     "data": {
      "text/plain": [
       "[array([1000, 1001, 1002, 1003, 1004]), array([1005, 1006, 1007, 1008, 1009])]"
      ]
     },
     "execution_count": 13,
     "metadata": {},
     "output_type": "execute_result"
    }
   ],
   "execution_count": 13
  },
  {
   "metadata": {
    "ExecuteTime": {
     "end_time": "2024-07-09T04:30:30.418150Z",
     "start_time": "2024-07-09T04:30:30.412143Z"
    }
   },
   "cell_type": "code",
   "source": [
    "for batch in batches:\n",
    "    print(batch)"
   ],
   "id": "631f39d01c0187ca",
   "outputs": [
    {
     "name": "stdout",
     "output_type": "stream",
     "text": [
      "[1000 1001 1002 1003 1004]\n",
      "[1005 1006 1007 1008 1009]\n"
     ]
    }
   ],
   "execution_count": 14
  },
  {
   "metadata": {
    "ExecuteTime": {
     "end_time": "2024-07-09T04:30:30.425542Z",
     "start_time": "2024-07-09T04:30:30.419170Z"
    }
   },
   "cell_type": "code",
   "source": [
    "for batch in batches:\n",
    "    print(\"First element in the batch: \", batch[0])"
   ],
   "id": "5d0e788038226a65",
   "outputs": [
    {
     "name": "stdout",
     "output_type": "stream",
     "text": [
      "First element in the batch:  1000\n",
      "First element in the batch:  1005\n"
     ]
    }
   ],
   "execution_count": 15
  },
  {
   "metadata": {
    "ExecuteTime": {
     "end_time": "2024-07-09T04:30:30.434568Z",
     "start_time": "2024-07-09T04:30:30.428754Z"
    }
   },
   "cell_type": "code",
   "source": [
    "for i, batch in enumerate(batches):\n",
    "    print(f\"Batch number {i}: \")\n",
    "    print(\"First element in the batch: \", batch[0])\n",
    "    print(\"Second element in the batch: \", batch[1])\n",
    "    print('')"
   ],
   "id": "154493b363e949c7",
   "outputs": [
    {
     "name": "stdout",
     "output_type": "stream",
     "text": [
      "Batch number 0: \n",
      "First element in the batch:  1000\n",
      "Second element in the batch:  1001\n",
      "\n",
      "Batch number 1: \n",
      "First element in the batch:  1005\n",
      "Second element in the batch:  1006\n",
      "\n"
     ]
    }
   ],
   "execution_count": 16
  },
  {
   "metadata": {},
   "cell_type": "markdown",
   "source": "## 4. Categorizing Product Rating",
   "id": "2fad6320624059f7"
  },
  {
   "metadata": {
    "ExecuteTime": {
     "end_time": "2024-07-09T04:30:30.552083Z",
     "start_time": "2024-07-09T04:30:30.545951Z"
    }
   },
   "cell_type": "code",
   "source": [
    "ratings = np.array([4.8, 3.4, 4.3, 2.9, 3.9, 4.5, 2.3])\n",
    "ratings"
   ],
   "id": "e159fca45f34c4fe",
   "outputs": [
    {
     "data": {
      "text/plain": [
       "array([4.8, 3.4, 4.3, 2.9, 3.9, 4.5, 2.3])"
      ]
     },
     "execution_count": 17,
     "metadata": {},
     "output_type": "execute_result"
    }
   ],
   "execution_count": 17
  },
  {
   "metadata": {
    "ExecuteTime": {
     "end_time": "2024-07-09T04:30:30.749878Z",
     "start_time": "2024-07-09T04:30:30.740789Z"
    }
   },
   "cell_type": "code",
   "source": [
    "positive_ratings = ratings[ratings >= 4.0]\n",
    "positive_ratings"
   ],
   "id": "2a7e137a7e609835",
   "outputs": [
    {
     "data": {
      "text/plain": [
       "array([4.8, 4.3, 4.5])"
      ]
     },
     "execution_count": 18,
     "metadata": {},
     "output_type": "execute_result"
    }
   ],
   "execution_count": 18
  },
  {
   "metadata": {
    "ExecuteTime": {
     "end_time": "2024-07-09T04:30:30.827299Z",
     "start_time": "2024-07-09T04:30:30.819912Z"
    }
   },
   "cell_type": "code",
   "source": [
    "negative_ratings = ratings[ratings < 4.0]\n",
    "negative_ratings"
   ],
   "id": "71e7ad72f9fbbe54",
   "outputs": [
    {
     "data": {
      "text/plain": [
       "array([3.4, 2.9, 3.9, 2.3])"
      ]
     },
     "execution_count": 19,
     "metadata": {},
     "output_type": "execute_result"
    }
   ],
   "execution_count": 19
  },
  {
   "metadata": {},
   "cell_type": "markdown",
   "source": "## 5. Calculate Total And Average Quantities Sold",
   "id": "a861e281afbecd73"
  },
  {
   "metadata": {
    "ExecuteTime": {
     "end_time": "2024-07-09T04:30:30.869526Z",
     "start_time": "2024-07-09T04:30:30.862734Z"
    }
   },
   "cell_type": "code",
   "source": [
    "# Each colum is a specific product (4)\n",
    "# Each row is a specific order (2)\n",
    "order_quantities = np.array([[5, 13, 7, 3], [6, 4, 9, 14]])\n",
    "order_quantities"
   ],
   "id": "e31b2533bb341267",
   "outputs": [
    {
     "data": {
      "text/plain": [
       "array([[ 5, 13,  7,  3],\n",
       "       [ 6,  4,  9, 14]])"
      ]
     },
     "execution_count": 20,
     "metadata": {},
     "output_type": "execute_result"
    }
   ],
   "execution_count": 20
  },
  {
   "metadata": {
    "ExecuteTime": {
     "end_time": "2024-07-09T04:30:30.907989Z",
     "start_time": "2024-07-09T04:30:30.901074Z"
    }
   },
   "cell_type": "code",
   "source": [
    "# Quantities of the sales per product\n",
    "total_quantities_sold = np.sum(order_quantities, axis=0)\n",
    "total_quantities_sold"
   ],
   "id": "bdc3e2137ac41483",
   "outputs": [
    {
     "data": {
      "text/plain": [
       "array([11, 17, 16, 17])"
      ]
     },
     "execution_count": 21,
     "metadata": {},
     "output_type": "execute_result"
    }
   ],
   "execution_count": 21
  },
  {
   "metadata": {
    "ExecuteTime": {
     "end_time": "2024-07-09T04:30:30.973196Z",
     "start_time": "2024-07-09T04:30:30.965300Z"
    }
   },
   "cell_type": "code",
   "source": [
    "# Quantities of the sales per order\n",
    "total_quantities_sold = np.sum(order_quantities, axis=1)\n",
    "total_quantities_sold"
   ],
   "id": "8e72df21f8f7bfd7",
   "outputs": [
    {
     "data": {
      "text/plain": [
       "array([28, 33])"
      ]
     },
     "execution_count": 22,
     "metadata": {},
     "output_type": "execute_result"
    }
   ],
   "execution_count": 22
  },
  {
   "metadata": {
    "ExecuteTime": {
     "end_time": "2024-07-09T04:30:31.013434Z",
     "start_time": "2024-07-09T04:30:31.005028Z"
    }
   },
   "cell_type": "code",
   "source": [
    "# Average quantities per product across all orders\n",
    "avg_quantities_sold = np.mean(order_quantities, axis=0)\n",
    "avg_quantities_sold"
   ],
   "id": "e999ab3bac3956b7",
   "outputs": [
    {
     "data": {
      "text/plain": [
       "array([5.5, 8.5, 8. , 8.5])"
      ]
     },
     "execution_count": 23,
     "metadata": {},
     "output_type": "execute_result"
    }
   ],
   "execution_count": 23
  },
  {
   "metadata": {},
   "cell_type": "code",
   "outputs": [],
   "execution_count": null,
   "source": "",
   "id": "d9457be0227ac254"
  },
  {
   "metadata": {},
   "cell_type": "markdown",
   "source": "## 6. Calculate Avg Product Rating & Max Rating Per Category",
   "id": "8eb747d114d98bce"
  },
  {
   "metadata": {
    "ExecuteTime": {
     "end_time": "2024-07-09T04:30:31.082790Z",
     "start_time": "2024-07-09T04:30:31.074901Z"
    }
   },
   "cell_type": "code",
   "source": [
    "# Each row is one product\n",
    "# Each product is rated in 4 category\n",
    "product_rating = np.array([\n",
    "    [4.5, 3.4, 4.1, 3.6],\n",
    "    [4.2, 4.7, 3.8, 3.7],\n",
    "    [3.2, 4.1, 4.3, 4.8]\n",
    "])\n",
    "product_rating"
   ],
   "id": "4ab6655f994e7d10",
   "outputs": [
    {
     "data": {
      "text/plain": [
       "array([[4.5, 3.4, 4.1, 3.6],\n",
       "       [4.2, 4.7, 3.8, 3.7],\n",
       "       [3.2, 4.1, 4.3, 4.8]])"
      ]
     },
     "execution_count": 24,
     "metadata": {},
     "output_type": "execute_result"
    }
   ],
   "execution_count": 24
  },
  {
   "metadata": {
    "ExecuteTime": {
     "end_time": "2024-07-09T04:30:31.106187Z",
     "start_time": "2024-07-09T04:30:31.096564Z"
    }
   },
   "cell_type": "code",
   "source": [
    "avg_product_rating_per_cat = np.mean(product_rating, axis=0)\n",
    "avg_product_rating_per_cat"
   ],
   "id": "fc62ed894744c848",
   "outputs": [
    {
     "data": {
      "text/plain": [
       "array([3.96666667, 4.06666667, 4.06666667, 4.03333333])"
      ]
     },
     "execution_count": 25,
     "metadata": {},
     "output_type": "execute_result"
    }
   ],
   "execution_count": 25
  },
  {
   "metadata": {
    "ExecuteTime": {
     "end_time": "2024-07-09T04:30:31.136701Z",
     "start_time": "2024-07-09T04:30:31.129434Z"
    }
   },
   "cell_type": "code",
   "source": [
    "avg_product_rating_per_prod = np.mean(product_rating, axis=1)\n",
    "avg_product_rating_per_prod"
   ],
   "id": "f14399ed24dd459",
   "outputs": [
    {
     "data": {
      "text/plain": [
       "array([3.9, 4.1, 4.1])"
      ]
     },
     "execution_count": 26,
     "metadata": {},
     "output_type": "execute_result"
    }
   ],
   "execution_count": 26
  },
  {
   "metadata": {
    "ExecuteTime": {
     "end_time": "2024-07-09T04:30:31.234700Z",
     "start_time": "2024-07-09T04:30:31.226690Z"
    }
   },
   "cell_type": "code",
   "source": [
    "max_product_rating = np.max(product_rating, axis=0)\n",
    "max_product_rating"
   ],
   "id": "f5dd9ec9ee242344",
   "outputs": [
    {
     "data": {
      "text/plain": [
       "array([4.5, 4.7, 4.3, 4.8])"
      ]
     },
     "execution_count": 27,
     "metadata": {},
     "output_type": "execute_result"
    }
   ],
   "execution_count": 27
  },
  {
   "metadata": {},
   "cell_type": "markdown",
   "source": "## 7. Generation of the sample stock data",
   "id": "55ec4bf96f36049f"
  },
  {
   "metadata": {
    "ExecuteTime": {
     "end_time": "2024-07-09T04:30:31.285015Z",
     "start_time": "2024-07-09T04:30:31.279347Z"
    }
   },
   "cell_type": "code",
   "source": [
    "companies = ['Google', 'Microsoft', 'Apple']\n",
    "days = ['Mon 1 June', 'Tue 2 June']\n",
    "price_types = ['Open', 'Close', 'High', 'Low']"
   ],
   "id": "f27b39063fcef689",
   "outputs": [],
   "execution_count": 28
  },
  {
   "metadata": {
    "ExecuteTime": {
     "end_time": "2024-07-09T04:33:50.978241Z",
     "start_time": "2024-07-09T04:33:50.968630Z"
    }
   },
   "cell_type": "code",
   "source": [
    "# shape = (3, 2, 4)\n",
    "np.random.seed(1)\n",
    "stock_prices = np.round(np.random.random((len(companies), len(days), len(price_types))), 3)\n",
    "stock_prices"
   ],
   "id": "5f848039d90e2ae5",
   "outputs": [
    {
     "data": {
      "text/plain": [
       "array([[[0.417, 0.72 , 0.   , 0.302],\n",
       "        [0.147, 0.092, 0.186, 0.346]],\n",
       "\n",
       "       [[0.397, 0.539, 0.419, 0.685],\n",
       "        [0.204, 0.878, 0.027, 0.67 ]],\n",
       "\n",
       "       [[0.417, 0.559, 0.14 , 0.198],\n",
       "        [0.801, 0.968, 0.313, 0.692]]])"
      ]
     },
     "execution_count": 31,
     "metadata": {},
     "output_type": "execute_result"
    }
   ],
   "execution_count": 31
  },
  {
   "metadata": {
    "ExecuteTime": {
     "end_time": "2024-07-09T04:34:11.539072Z",
     "start_time": "2024-07-09T04:34:11.532633Z"
    }
   },
   "cell_type": "code",
   "source": "stock_prices.shape",
   "id": "3757aef93cb998d4",
   "outputs": [
    {
     "data": {
      "text/plain": [
       "(3, 2, 4)"
      ]
     },
     "execution_count": 32,
     "metadata": {},
     "output_type": "execute_result"
    }
   ],
   "execution_count": 32
  },
  {
   "metadata": {
    "ExecuteTime": {
     "end_time": "2024-07-09T04:40:32.623711Z",
     "start_time": "2024-07-09T04:40:32.614182Z"
    }
   },
   "cell_type": "code",
   "source": [
    "for index_axis_0, company in enumerate(companies):\n",
    "    print(f'Stock prices for {company}:')\n",
    "    for index_axis_1, day in enumerate(days):\n",
    "        print(f'Day is {day}')\n",
    "        for index_axis_2, price_type in enumerate(price_types):\n",
    "            print(f'Price type: {price_type}\\n Price: {stock_prices[index_axis_0][index_axis_1][index_axis_2]}')\n",
    "        print('')\n",
    "    print('')"
   ],
   "id": "22b1d55705393f3a",
   "outputs": [
    {
     "name": "stdout",
     "output_type": "stream",
     "text": [
      "Stock prices for Google:\n",
      "Day is Mon 1 June\n",
      "Price type: Open\n",
      " Price: 0.417\n",
      "Price type: Close\n",
      " Price: 0.72\n",
      "Price type: High\n",
      " Price: 0.0\n",
      "Price type: Low\n",
      " Price: 0.302\n",
      "\n",
      "Day is Tue 2 June\n",
      "Price type: Open\n",
      " Price: 0.147\n",
      "Price type: Close\n",
      " Price: 0.092\n",
      "Price type: High\n",
      " Price: 0.186\n",
      "Price type: Low\n",
      " Price: 0.346\n",
      "\n",
      "\n",
      "Stock prices for Microsoft:\n",
      "Day is Mon 1 June\n",
      "Price type: Open\n",
      " Price: 0.397\n",
      "Price type: Close\n",
      " Price: 0.539\n",
      "Price type: High\n",
      " Price: 0.419\n",
      "Price type: Low\n",
      " Price: 0.685\n",
      "\n",
      "Day is Tue 2 June\n",
      "Price type: Open\n",
      " Price: 0.204\n",
      "Price type: Close\n",
      " Price: 0.878\n",
      "Price type: High\n",
      " Price: 0.027\n",
      "Price type: Low\n",
      " Price: 0.67\n",
      "\n",
      "\n",
      "Stock prices for Apple:\n",
      "Day is Mon 1 June\n",
      "Price type: Open\n",
      " Price: 0.417\n",
      "Price type: Close\n",
      " Price: 0.559\n",
      "Price type: High\n",
      " Price: 0.14\n",
      "Price type: Low\n",
      " Price: 0.198\n",
      "\n",
      "Day is Tue 2 June\n",
      "Price type: Open\n",
      " Price: 0.801\n",
      "Price type: Close\n",
      " Price: 0.968\n",
      "Price type: High\n",
      " Price: 0.313\n",
      "Price type: Low\n",
      " Price: 0.692\n",
      "\n",
      "\n"
     ]
    }
   ],
   "execution_count": 34
  },
  {
   "metadata": {},
   "cell_type": "code",
   "outputs": [],
   "execution_count": null,
   "source": "",
   "id": "36796c205261e1b4"
  }
 ],
 "metadata": {
  "kernelspec": {
   "display_name": "Python 3",
   "language": "python",
   "name": "python3"
  },
  "language_info": {
   "codemirror_mode": {
    "name": "ipython",
    "version": 2
   },
   "file_extension": ".py",
   "mimetype": "text/x-python",
   "name": "python",
   "nbconvert_exporter": "python",
   "pygments_lexer": "ipython2",
   "version": "2.7.6"
  }
 },
 "nbformat": 4,
 "nbformat_minor": 5
}
