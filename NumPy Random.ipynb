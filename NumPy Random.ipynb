{
 "cells": [
  {
   "cell_type": "code",
   "id": "initial_id",
   "metadata": {
    "collapsed": true,
    "ExecuteTime": {
     "end_time": "2024-07-04T11:58:23.312736Z",
     "start_time": "2024-07-04T11:58:23.306809Z"
    }
   },
   "source": "import numpy as np",
   "outputs": [],
   "execution_count": 12
  },
  {
   "metadata": {
    "ExecuteTime": {
     "end_time": "2024-07-04T11:58:23.324482Z",
     "start_time": "2024-07-04T11:58:23.315377Z"
    }
   },
   "cell_type": "code",
   "source": "np.zeros((3, 4))",
   "id": "5a182453aa6f1ad6",
   "outputs": [
    {
     "data": {
      "text/plain": [
       "array([[0., 0., 0., 0.],\n",
       "       [0., 0., 0., 0.],\n",
       "       [0., 0., 0., 0.]])"
      ]
     },
     "execution_count": 13,
     "metadata": {},
     "output_type": "execute_result"
    }
   ],
   "execution_count": 13
  },
  {
   "metadata": {
    "ExecuteTime": {
     "end_time": "2024-07-04T11:58:23.333999Z",
     "start_time": "2024-07-04T11:58:23.325990Z"
    }
   },
   "cell_type": "code",
   "source": "np.zeros((3, 4, 2))",
   "id": "c70feb3e61b688e2",
   "outputs": [
    {
     "data": {
      "text/plain": [
       "array([[[0., 0.],\n",
       "        [0., 0.],\n",
       "        [0., 0.],\n",
       "        [0., 0.]],\n",
       "\n",
       "       [[0., 0.],\n",
       "        [0., 0.],\n",
       "        [0., 0.],\n",
       "        [0., 0.]],\n",
       "\n",
       "       [[0., 0.],\n",
       "        [0., 0.],\n",
       "        [0., 0.],\n",
       "        [0., 0.]]])"
      ]
     },
     "execution_count": 14,
     "metadata": {},
     "output_type": "execute_result"
    }
   ],
   "execution_count": 14
  },
  {
   "metadata": {
    "ExecuteTime": {
     "end_time": "2024-07-04T11:58:23.344762Z",
     "start_time": "2024-07-04T11:58:23.336120Z"
    }
   },
   "cell_type": "code",
   "source": "np.zeros((2, 4), dtype=np.int32)",
   "id": "d9ccd1743e617bf8",
   "outputs": [
    {
     "data": {
      "text/plain": [
       "array([[0, 0, 0, 0],\n",
       "       [0, 0, 0, 0]], dtype=int32)"
      ]
     },
     "execution_count": 15,
     "metadata": {},
     "output_type": "execute_result"
    }
   ],
   "execution_count": 15
  },
  {
   "metadata": {
    "ExecuteTime": {
     "end_time": "2024-07-04T11:58:23.354890Z",
     "start_time": "2024-07-04T11:58:23.344762Z"
    }
   },
   "cell_type": "code",
   "source": "np.ones((3, 5), dtype=np.int32)",
   "id": "25d688592aa19d29",
   "outputs": [
    {
     "data": {
      "text/plain": [
       "array([[1, 1, 1, 1, 1],\n",
       "       [1, 1, 1, 1, 1],\n",
       "       [1, 1, 1, 1, 1]], dtype=int32)"
      ]
     },
     "execution_count": 16,
     "metadata": {},
     "output_type": "execute_result"
    }
   ],
   "execution_count": 16
  },
  {
   "metadata": {
    "ExecuteTime": {
     "end_time": "2024-07-04T11:59:44.688800Z",
     "start_time": "2024-07-04T11:59:44.680561Z"
    }
   },
   "cell_type": "code",
   "source": [
    "np.random.seed(0)\n",
    "np.random.random((3, 5))"
   ],
   "id": "1edbba6f15e42fee",
   "outputs": [
    {
     "data": {
      "text/plain": [
       "array([[0.5488135 , 0.71518937, 0.60276338, 0.54488318, 0.4236548 ],\n",
       "       [0.64589411, 0.43758721, 0.891773  , 0.96366276, 0.38344152],\n",
       "       [0.79172504, 0.52889492, 0.56804456, 0.92559664, 0.07103606]])"
      ]
     },
     "execution_count": 19,
     "metadata": {},
     "output_type": "execute_result"
    }
   ],
   "execution_count": 19
  },
  {
   "metadata": {
    "ExecuteTime": {
     "end_time": "2024-07-04T12:14:13.261559Z",
     "start_time": "2024-07-04T12:14:13.250261Z"
    }
   },
   "cell_type": "code",
   "source": "np.random.randint(5, size=(3, 5))",
   "id": "8096aea2eabfc2fb",
   "outputs": [
    {
     "data": {
      "text/plain": [
       "array([[1, 4, 3, 0, 3],\n",
       "       [0, 2, 3, 0, 1],\n",
       "       [3, 3, 3, 0, 1]], dtype=int32)"
      ]
     },
     "execution_count": 20,
     "metadata": {},
     "output_type": "execute_result"
    }
   ],
   "execution_count": 20
  },
  {
   "metadata": {
    "ExecuteTime": {
     "end_time": "2024-07-04T12:15:27.638815Z",
     "start_time": "2024-07-04T12:15:27.631256Z"
    }
   },
   "cell_type": "code",
   "source": [
    "np.random.seed(0)\n",
    "np.random.randint(5, 15, size=(3, 5))"
   ],
   "id": "6bd120b449f80ace",
   "outputs": [
    {
     "data": {
      "text/plain": [
       "array([[10,  5,  8,  8, 12],\n",
       "       [14,  8, 10,  7,  9],\n",
       "       [12, 11, 13, 13,  6]], dtype=int32)"
      ]
     },
     "execution_count": 25,
     "metadata": {},
     "output_type": "execute_result"
    }
   ],
   "execution_count": 25
  },
  {
   "metadata": {
    "ExecuteTime": {
     "end_time": "2024-07-04T12:17:32.068703Z",
     "start_time": "2024-07-04T12:17:32.060048Z"
    }
   },
   "cell_type": "code",
   "source": [
    "np.random.seed(0)\n",
    "np.random.uniform(size=(3, 5))"
   ],
   "id": "a6ee3e734fff5015",
   "outputs": [
    {
     "data": {
      "text/plain": [
       "array([[0.5488135 , 0.71518937, 0.60276338, 0.54488318, 0.4236548 ],\n",
       "       [0.64589411, 0.43758721, 0.891773  , 0.96366276, 0.38344152],\n",
       "       [0.79172504, 0.52889492, 0.56804456, 0.92559664, 0.07103606]])"
      ]
     },
     "execution_count": 27,
     "metadata": {},
     "output_type": "execute_result"
    }
   ],
   "execution_count": 27
  },
  {
   "metadata": {
    "ExecuteTime": {
     "end_time": "2024-07-04T12:19:48.558720Z",
     "start_time": "2024-07-04T12:19:48.549351Z"
    }
   },
   "cell_type": "code",
   "source": [
    "np.random.seed(0)\n",
    "np.random.uniform(15.0, 39.5, size=(3, 5))"
   ],
   "id": "4b8904d74f614850",
   "outputs": [
    {
     "data": {
      "text/plain": [
       "array([[28.44593085, 32.52213948, 29.76770271, 28.34963798, 25.37954258],\n",
       "       [30.82440577, 25.72088668, 36.84843852, 38.60973763, 24.39431721],\n",
       "       [34.39726343, 27.95792553, 28.91709175, 37.67711764, 16.74038343]])"
      ]
     },
     "execution_count": 29,
     "metadata": {},
     "output_type": "execute_result"
    }
   ],
   "execution_count": 29
  },
  {
   "metadata": {
    "ExecuteTime": {
     "end_time": "2024-07-04T12:21:41.124401Z",
     "start_time": "2024-07-04T12:21:41.112117Z"
    }
   },
   "cell_type": "code",
   "source": [
    "np.random.seed(10)\n",
    "np.random.choice(np.array(['a', 'b', 'c']), size=(3, 5))"
   ],
   "id": "4223d7a8d972d4d4",
   "outputs": [
    {
     "data": {
      "text/plain": [
       "array([['b', 'b', 'a', 'a', 'b'],\n",
       "       ['a', 'b', 'b', 'a', 'b'],\n",
       "       ['b', 'c', 'a', 'b', 'a']], dtype='<U1')"
      ]
     },
     "execution_count": 30,
     "metadata": {},
     "output_type": "execute_result"
    }
   ],
   "execution_count": 30
  },
  {
   "metadata": {
    "ExecuteTime": {
     "end_time": "2024-07-04T12:22:21.991392Z",
     "start_time": "2024-07-04T12:22:21.980969Z"
    }
   },
   "cell_type": "code",
   "source": [
    "np.random.seed(10)\n",
    "np.random.choice(np.array(['a', 'b', 'c']), size=10)"
   ],
   "id": "f123850f1547b27",
   "outputs": [
    {
     "data": {
      "text/plain": [
       "array(['b', 'b', 'a', 'a', 'b', 'a', 'b', 'b', 'a', 'b'], dtype='<U1')"
      ]
     },
     "execution_count": 34,
     "metadata": {},
     "output_type": "execute_result"
    }
   ],
   "execution_count": 34
  },
  {
   "metadata": {},
   "cell_type": "code",
   "outputs": [],
   "execution_count": null,
   "source": "",
   "id": "b81518d8983b58cd"
  }
 ],
 "metadata": {
  "kernelspec": {
   "display_name": "Python 3",
   "language": "python",
   "name": "python3"
  },
  "language_info": {
   "codemirror_mode": {
    "name": "ipython",
    "version": 2
   },
   "file_extension": ".py",
   "mimetype": "text/x-python",
   "name": "python",
   "nbconvert_exporter": "python",
   "pygments_lexer": "ipython2",
   "version": "2.7.6"
  }
 },
 "nbformat": 4,
 "nbformat_minor": 5
}
